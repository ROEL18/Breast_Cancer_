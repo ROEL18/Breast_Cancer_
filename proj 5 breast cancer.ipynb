{
 "cells": [
  {
   "cell_type": "code",
   "execution_count": 5,
   "id": "853fb59c-0471-430d-a47b-2ec6ec7ff172",
   "metadata": {},
   "outputs": [
    {
     "name": "stdout",
     "output_type": "stream",
     "text": [
      "Accuracy score of Linear SVM Classifier is 94.4055944055944 %\n",
      "\n",
      "Accuracy score of Kernel SVM Classifier with RBF is 97.9020979020979 %\n",
      "\n"
     ]
    }
   ],
   "source": [
    "\n",
    "from sklearn import datasets\n",
    "from sklearn.model_selection import train_test_split\n",
    "from sklearn.preprocessing import StandardScaler\n",
    "from sklearn.metrics import accuracy_score\n",
    "from sklearn.svm import SVC\n",
    "\n",
    "bcancer = datasets.load_breast_cancer()\n",
    "X = bcancer.data\n",
    "Y = bcancer.target\n",
    "\n",
    "scaler = StandardScaler();\n",
    "X = scaler.fit_transform(X) \n",
    "Xtrain, Xtest, Ytrain, Ytest \\\n",
    "= train_test_split(X, Y, test_size = 0.25, random_state = 10) \n",
    "\n",
    "# Linear SVM\n",
    "svmc=SVC(kernel = 'linear', random_state = 0)\n",
    "svmc.fit(Xtrain, Ytrain)\n",
    "Ypred = svmc.predict(Xtest)\n",
    "svmcscore = accuracy_score(Ypred, Ytest)\n",
    "print('Accuracy score of Linear SVM Classifier is',100*svmcscore,'%\\n')\n",
    "\n",
    "# Kernel SVM RBF - Gaussian Kernal\n",
    "ksvmc = SVC(kernel = 'rbf')\n",
    "ksvmc.fit(Xtrain, Ytrain)\n",
    "Ypred = ksvmc.predict(Xtest)\n",
    "svmcscore = accuracy_score(Ypred,Ytest)\n",
    "print('Accuracy score of Kernel SVM Classifier with RBF is',100*svmcscore,'%\\n')\n"
   ]
  },
  {
   "cell_type": "code",
   "execution_count": null,
   "id": "14eacdcd-1cd7-4c48-b626-76068e78bc63",
   "metadata": {},
   "outputs": [],
   "source": []
  }
 ],
 "metadata": {
  "kernelspec": {
   "display_name": "Python 3 (ipykernel)",
   "language": "python",
   "name": "python3"
  },
  "language_info": {
   "codemirror_mode": {
    "name": "ipython",
    "version": 3
   },
   "file_extension": ".py",
   "mimetype": "text/x-python",
   "name": "python",
   "nbconvert_exporter": "python",
   "pygments_lexer": "ipython3",
   "version": "3.11.7"
  }
 },
 "nbformat": 4,
 "nbformat_minor": 5
}
